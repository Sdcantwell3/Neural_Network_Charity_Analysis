{
 "cells": [
  {
   "cell_type": "code",
   "execution_count": 1,
   "id": "1f817f6b",
   "metadata": {},
   "outputs": [],
   "source": [
    "# Import our dependencies\n",
    "import pandas as pd\n",
    "import matplotlib as plt\n",
    "from sklearn.datasets import make_blobs\n",
    "import sklearn as skl\n",
    "import tensorflow as tf"
   ]
  },
  {
   "cell_type": "code",
   "execution_count": 2,
   "id": "1dd0c864",
   "metadata": {},
   "outputs": [
    {
     "data": {
      "text/plain": [
       "<AxesSubplot:xlabel='Feature 1', ylabel='Feature 2'>"
      ]
     },
     "execution_count": 2,
     "metadata": {},
     "output_type": "execute_result"
    },
    {
     "data": {
      "image/png": "[encoded data removed]",
      "text/plain": [
       "<Figure size 432x288 with 2 Axes>"
      ]
     },
     "metadata": {
      "needs_background": "light"
     },
     "output_type": "display_data"
    }
   ],
   "source": [
    "# Generate dummy dataset\n",
    "X, y = make_blobs(n_samples=1000, centers=2, n_features=2, random_state=78)\n",
    "\n",
    "# Creating a DataFrame with the dummy data\n",
    "df = pd.DataFrame(X, columns=[\"Feature 1\", \"Feature 2\"])\n",
    "df[\"Target\"] = y\n",
    "\n",
    "# Plotting the dummy data\n",
    "df.plot.scatter(x=\"Feature 1\", y=\"Feature 2\", c=\"Target\", colormap=\"winter\")\n"
   ]
  },
  {
   "cell_type": "code",
   "execution_count": 3,
   "id": "45cc37f1",
   "metadata": {},
   "outputs": [],
   "source": [
    "# Use sklearn to split dataset\n",
    "from sklearn.model_selection import train_test_split\n",
    "X_train, X_test, y_train, y_test = train_test_split(X, y, random_state=78)"
   ]
  },
  {
   "cell_type": "code",
   "execution_count": 4,
   "id": "b89a4c23",
   "metadata": {},
   "outputs": [],
   "source": [
    "# Create scaler instance\n",
    "X_scaler = skl.preprocessing.StandardScaler()\n",
    "\n",
    "# Fit the scaler\n",
    "X_scaler.fit(X_train)\n",
    "\n",
    "# Scale the data\n",
    "X_train_scaled = X_scaler.transform(X_train)\n",
    "X_test_scaled = X_scaler.transform(X_test)"
   ]
  },
  {
   "cell_type": "code",
   "execution_count": 5,
   "id": "3d1f8473",
   "metadata": {},
   "outputs": [],
   "source": [
    "# Create the Keras Sequential model\n",
    "nn_model = tf.keras.models.Sequential()"
   ]
  },
  {
   "cell_type": "code",
   "execution_count": 6,
   "id": "23b63fae",
   "metadata": {},
   "outputs": [],
   "source": [
    "# Add our first Dense layer, including the input layer\n",
    "nn_model.add(tf.keras.layers.Dense(units=1, activation=\"relu\", input_dim=2))"
   ]
  },
  {
   "cell_type": "code",
   "execution_count": 7,
   "id": "88f05fc9",
   "metadata": {},
   "outputs": [],
   "source": [
    "# Add the output layer that uses a probability activation function\n",
    "nn_model.add(tf.keras.layers.Dense(units=1, activation=\"sigmoid\"))"
   ]
  },
  {
   "cell_type": "code",
   "execution_count": 8,
   "id": "cc7aae82",
   "metadata": {},
   "outputs": [
    {
     "name": "stdout",
     "output_type": "stream",
     "text": [
      "Model: \"sequential\"\n",
      "_________________________________________________________________\n",
      " Layer (type)                Output Shape              Param #   \n",
      "=================================================================\n",
      " dense (Dense)               (None, 1)                 3         \n",
      "                                                                 \n",
      " dense_1 (Dense)             (None, 1)                 2         \n",
      "                                                                 \n",
      "=================================================================\n",
      "Total params: 5\n",
      "Trainable params: 5\n",
      "Non-trainable params: 0\n",
      "_________________________________________________________________\n"
     ]
    }
   ],
   "source": [
    "# Check the structure of the Sequential model\n",
    "nn_model.summary()"
   ]
  },
  {
   "cell_type": "code",
   "execution_count": 9,
   "id": "e2333917",
   "metadata": {},
   "outputs": [],
   "source": [
    "# Compile the Sequential model together and customize metrics\n",
    "nn_model.compile(loss=\"binary_crossentropy\", optimizer=\"adam\", metrics=[\"accuracy\"])"
   ]
  },
  {
   "cell_type": "code",
   "execution_count": 10,
   "id": "a6d419c4",
   "metadata": {},
   "outputs": [
    {
     "name": "stdout",
     "output_type": "stream",
     "text": [
      "Epoch 1/100\n",
      "24/24 [==============================] - 2s 783us/step - loss: 0.4690 - accuracy: 1.0000\n",
      "Epoch 2/100\n",
      "24/24 [==============================] - 0s 696us/step - loss: 0.4525 - accuracy: 1.0000\n",
      "Epoch 3/100\n",
      "24/24 [==============================] - 0s 695us/step - loss: 0.4369 - accuracy: 1.0000\n",
      "Epoch 4/100\n",
      "24/24 [==============================] - 0s 652us/step - loss: 0.4223 - accuracy: 1.0000\n",
      "Epoch 5/100\n",
      "24/24 [==============================] - 0s 653us/step - loss: 0.4087 - accuracy: 1.0000\n",
      "Epoch 6/100\n",
      "24/24 [==============================] - 0s 652us/step - loss: 0.3958 - accuracy: 1.0000\n",
      "Epoch 7/100\n",
      "24/24 [==============================] - 0s 609us/step - loss: 0.3837 - accuracy: 1.0000\n",
      "Epoch 8/100\n",
      "24/24 [==============================] - 0s 609us/step - loss: 0.3724 - accuracy: 1.0000\n",
      "Epoch 9/100\n",
      "24/24 [==============================] - 0s 653us/step - loss: 0.3617 - accuracy: 1.0000\n",
      "Epoch 10/100\n",
      "24/24 [==============================] - 0s 609us/step - loss: 0.3515 - accuracy: 1.0000\n",
      "Epoch 11/100\n",
      "24/24 [==============================] - 0s 633us/step - loss: 0.3420 - accuracy: 1.0000\n",
      "Epoch 12/100\n",
      "24/24 [==============================] - 0s 584us/step - loss: 0.3329 - accuracy: 1.0000\n",
      "Epoch 13/100\n",
      "24/24 [==============================] - 0s 565us/step - loss: 0.3242 - accuracy: 1.0000\n",
      "Epoch 14/100\n",
      "24/24 [==============================] - 0s 565us/step - loss: 0.3161 - accuracy: 1.0000\n",
      "Epoch 15/100\n",
      "24/24 [==============================] - 0s 565us/step - loss: 0.3082 - accuracy: 1.0000\n",
      "Epoch 16/100\n",
      "24/24 [==============================] - 0s 565us/step - loss: 0.3007 - accuracy: 1.0000\n",
      "Epoch 17/100\n",
      "24/24 [==============================] - 0s 615us/step - loss: 0.2936 - accuracy: 1.0000\n",
      "Epoch 18/100\n",
      "24/24 [==============================] - 0s 609us/step - loss: 0.2867 - accuracy: 1.0000\n",
      "Epoch 19/100\n",
      "24/24 [==============================] - 0s 608us/step - loss: 0.2801 - accuracy: 1.0000\n",
      "Epoch 20/100\n",
      "24/24 [==============================] - 0s 565us/step - loss: 0.2738 - accuracy: 1.0000\n",
      "Epoch 21/100\n",
      "24/24 [==============================] - 0s 609us/step - loss: 0.2677 - accuracy: 1.0000\n",
      "Epoch 22/100\n",
      "24/24 [==============================] - 0s 609us/step - loss: 0.2618 - accuracy: 1.0000\n",
      "Epoch 23/100\n",
      "24/24 [==============================] - 0s 609us/step - loss: 0.2562 - accuracy: 1.0000\n",
      "Epoch 24/100\n",
      "24/24 [==============================] - 0s 565us/step - loss: 0.2507 - accuracy: 1.0000\n",
      "Epoch 25/100\n",
      "24/24 [==============================] - 0s 609us/step - loss: 0.2455 - accuracy: 1.0000\n",
      "Epoch 26/100\n",
      "24/24 [==============================] - 0s 609us/step - loss: 0.2404 - accuracy: 1.0000\n",
      "Epoch 27/100\n",
      "24/24 [==============================] - 0s 565us/step - loss: 0.2355 - accuracy: 1.0000\n",
      "Epoch 28/100\n",
      "24/24 [==============================] - 0s 661us/step - loss: 0.2307 - accuracy: 1.0000\n",
      "Epoch 29/100\n",
      "24/24 [==============================] - 0s 609us/step - loss: 0.2261 - accuracy: 1.0000\n",
      "Epoch 30/100\n",
      "24/24 [==============================] - 0s 634us/step - loss: 0.2216 - accuracy: 1.0000\n",
      "Epoch 31/100\n",
      "24/24 [==============================] - 0s 574us/step - loss: 0.2172 - accuracy: 1.0000\n",
      "Epoch 32/100\n",
      "24/24 [==============================] - 0s 609us/step - loss: 0.2130 - accuracy: 1.0000\n",
      "Epoch 33/100\n",
      "24/24 [==============================] - 0s 609us/step - loss: 0.2089 - accuracy: 1.0000\n",
      "Epoch 34/100\n",
      "24/24 [==============================] - 0s 652us/step - loss: 0.2049 - accuracy: 1.0000\n",
      "Epoch 35/100\n",
      "24/24 [==============================] - 0s 609us/step - loss: 0.2010 - accuracy: 1.0000\n",
      "Epoch 36/100\n",
      "24/24 [==============================] - 0s 609us/step - loss: 0.1972 - accuracy: 1.0000\n",
      "Epoch 37/100\n",
      "24/24 [==============================] - 0s 608us/step - loss: 0.1936 - accuracy: 1.0000\n",
      "Epoch 38/100\n",
      "24/24 [==============================] - 0s 609us/step - loss: 0.1900 - accuracy: 1.0000\n",
      "Epoch 39/100\n",
      "24/24 [==============================] - 0s 609us/step - loss: 0.1865 - accuracy: 1.0000\n",
      "Epoch 40/100\n",
      "24/24 [==============================] - 0s 609us/step - loss: 0.1831 - accuracy: 1.0000\n",
      "Epoch 41/100\n",
      "24/24 [==============================] - 0s 609us/step - loss: 0.1798 - accuracy: 1.0000\n",
      "Epoch 42/100\n",
      "24/24 [==============================] - 0s 609us/step - loss: 0.1765 - accuracy: 1.0000\n",
      "Epoch 43/100\n",
      "24/24 [==============================] - 0s 652us/step - loss: 0.1734 - accuracy: 1.0000\n",
      "Epoch 44/100\n",
      "24/24 [==============================] - 0s 565us/step - loss: 0.1703 - accuracy: 1.0000\n",
      "Epoch 45/100\n",
      "24/24 [==============================] - 0s 652us/step - loss: 0.1673 - accuracy: 1.0000\n",
      "Epoch 46/100\n",
      "24/24 [==============================] - 0s 609us/step - loss: 0.1644 - accuracy: 1.0000\n",
      "Epoch 47/100\n",
      "24/24 [==============================] - 0s 609us/step - loss: 0.1615 - accuracy: 1.0000\n",
      "Epoch 48/100\n",
      "24/24 [==============================] - 0s 609us/step - loss: 0.1588 - accuracy: 1.0000\n",
      "Epoch 49/100\n",
      "24/24 [==============================] - 0s 652us/step - loss: 0.1560 - accuracy: 1.0000\n",
      "Epoch 50/100\n",
      "24/24 [==============================] - 0s 652us/step - loss: 0.1534 - accuracy: 1.0000\n",
      "Epoch 51/100\n",
      "24/24 [==============================] - 0s 702us/step - loss: 0.1508 - accuracy: 1.0000\n",
      "Epoch 52/100\n",
      "24/24 [==============================] - 0s 641us/step - loss: 0.1483 - accuracy: 1.0000\n",
      "Epoch 53/100\n",
      "24/24 [==============================] - 0s 609us/step - loss: 0.1458 - accuracy: 1.0000\n",
      "Epoch 54/100\n",
      "24/24 [==============================] - 0s 677us/step - loss: 0.1433 - accuracy: 1.0000\n",
      "Epoch 55/100\n",
      "24/24 [==============================] - 0s 609us/step - loss: 0.1410 - accuracy: 1.0000\n",
      "Epoch 56/100\n",
      "24/24 [==============================] - 0s 652us/step - loss: 0.1387 - accuracy: 1.0000\n",
      "Epoch 57/100\n",
      "24/24 [==============================] - 0s 565us/step - loss: 0.1364 - accuracy: 1.0000\n",
      "Epoch 58/100\n",
      "24/24 [==============================] - 0s 609us/step - loss: 0.1342 - accuracy: 1.0000\n",
      "Epoch 59/100\n",
      "24/24 [==============================] - 0s 565us/step - loss: 0.1320 - accuracy: 1.0000\n",
      "Epoch 60/100\n",
      "24/24 [==============================] - 0s 609us/step - loss: 0.1299 - accuracy: 1.0000\n",
      "Epoch 61/100\n",
      "24/24 [==============================] - 0s 608us/step - loss: 0.1279 - accuracy: 1.0000\n",
      "Epoch 62/100\n",
      "24/24 [==============================] - 0s 609us/step - loss: 0.1258 - accuracy: 1.0000\n",
      "Epoch 63/100\n",
      "24/24 [==============================] - 0s 609us/step - loss: 0.1239 - accuracy: 1.0000\n",
      "Epoch 64/100\n",
      "24/24 [==============================] - 0s 609us/step - loss: 0.1219 - accuracy: 1.0000\n",
      "Epoch 65/100\n",
      "24/24 [==============================] - 0s 609us/step - loss: 0.1200 - accuracy: 1.0000\n",
      "Epoch 66/100\n",
      "24/24 [==============================] - 0s 652us/step - loss: 0.1181 - accuracy: 1.0000\n",
      "Epoch 67/100\n",
      "24/24 [==============================] - 0s 609us/step - loss: 0.1163 - accuracy: 1.0000\n",
      "Epoch 68/100\n",
      "24/24 [==============================] - 0s 608us/step - loss: 0.1145 - accuracy: 1.0000\n",
      "Epoch 69/100\n",
      "24/24 [==============================] - 0s 565us/step - loss: 0.1127 - accuracy: 1.0000\n",
      "Epoch 70/100\n",
      "24/24 [==============================] - 0s 609us/step - loss: 0.1110 - accuracy: 1.0000\n",
      "Epoch 71/100\n",
      "24/24 [==============================] - 0s 609us/step - loss: 0.1093 - accuracy: 1.0000\n",
      "Epoch 72/100\n",
      "24/24 [==============================] - 0s 668us/step - loss: 0.1077 - accuracy: 1.0000\n",
      "Epoch 73/100\n",
      "24/24 [==============================] - 0s 589us/step - loss: 0.1061 - accuracy: 1.0000\n",
      "Epoch 74/100\n",
      "24/24 [==============================] - 0s 652us/step - loss: 0.1045 - accuracy: 1.0000\n",
      "Epoch 75/100\n",
      "24/24 [==============================] - 0s 609us/step - loss: 0.1029 - accuracy: 1.0000\n",
      "Epoch 76/100\n",
      "24/24 [==============================] - 0s 609us/step - loss: 0.1014 - accuracy: 1.0000\n",
      "Epoch 77/100\n",
      "24/24 [==============================] - 0s 622us/step - loss: 0.0999 - accuracy: 1.0000\n",
      "Epoch 78/100\n",
      "24/24 [==============================] - 0s 609us/step - loss: 0.0984 - accuracy: 1.0000\n",
      "Epoch 79/100\n",
      "24/24 [==============================] - 0s 589us/step - loss: 0.0969 - accuracy: 1.0000\n",
      "Epoch 80/100\n",
      "24/24 [==============================] - 0s 638us/step - loss: 0.0955 - accuracy: 1.0000\n",
      "Epoch 81/100\n"
     ]
    },
    {
     "name": "stdout",
     "output_type": "stream",
     "text": [
      "24/24 [==============================] - 0s 565us/step - loss: 0.0941 - accuracy: 1.0000\n",
      "Epoch 82/100\n",
      "24/24 [==============================] - 0s 609us/step - loss: 0.0928 - accuracy: 1.0000\n",
      "Epoch 83/100\n",
      "24/24 [==============================] - 0s 547us/step - loss: 0.0914 - accuracy: 1.0000\n",
      "Epoch 84/100\n",
      "24/24 [==============================] - 0s 652us/step - loss: 0.0901 - accuracy: 1.0000\n",
      "Epoch 85/100\n",
      "24/24 [==============================] - 0s 609us/step - loss: 0.0888 - accuracy: 1.0000\n",
      "Epoch 86/100\n",
      "24/24 [==============================] - 0s 652us/step - loss: 0.0875 - accuracy: 1.0000\n",
      "Epoch 87/100\n",
      "24/24 [==============================] - 0s 609us/step - loss: 0.0863 - accuracy: 1.0000\n",
      "Epoch 88/100\n",
      "24/24 [==============================] - 0s 609us/step - loss: 0.0851 - accuracy: 1.0000\n",
      "Epoch 89/100\n",
      "24/24 [==============================] - 0s 652us/step - loss: 0.0839 - accuracy: 1.0000\n",
      "Epoch 90/100\n",
      "24/24 [==============================] - 0s 652us/step - loss: 0.0827 - accuracy: 1.0000\n",
      "Epoch 91/100\n",
      "24/24 [==============================] - 0s 609us/step - loss: 0.0815 - accuracy: 1.0000\n",
      "Epoch 92/100\n",
      "24/24 [==============================] - 0s 609us/step - loss: 0.0804 - accuracy: 1.0000\n",
      "Epoch 93/100\n",
      "24/24 [==============================] - 0s 609us/step - loss: 0.0792 - accuracy: 1.0000\n",
      "Epoch 94/100\n",
      "24/24 [==============================] - 0s 609us/step - loss: 0.0782 - accuracy: 1.0000\n",
      "Epoch 95/100\n",
      "24/24 [==============================] - 0s 652us/step - loss: 0.0771 - accuracy: 1.0000\n",
      "Epoch 96/100\n",
      "24/24 [==============================] - 0s 609us/step - loss: 0.0760 - accuracy: 1.0000\n",
      "Epoch 97/100\n",
      "24/24 [==============================] - 0s 652us/step - loss: 0.0750 - accuracy: 1.0000\n",
      "Epoch 98/100\n",
      "24/24 [==============================] - 0s 609us/step - loss: 0.0739 - accuracy: 1.0000\n",
      "Epoch 99/100\n",
      "24/24 [==============================] - 0s 609us/step - loss: 0.0729 - accuracy: 1.0000\n",
      "Epoch 100/100\n",
      "24/24 [==============================] - 0s 609us/step - loss: 0.0719 - accuracy: 1.0000\n"
     ]
    }
   ],
   "source": [
    "# Fit the model to the training data\n",
    "fit_model = nn_model.fit(X_train_scaled, y_train, epochs=100)"
   ]
  },
  {
   "cell_type": "code",
   "execution_count": 11,
   "id": "16f8e819",
   "metadata": {},
   "outputs": [
    {
     "data": {
      "text/plain": [
       "<AxesSubplot:>"
      ]
     },
     "execution_count": 11,
     "metadata": {},
     "output_type": "execute_result"
    },
    {
     "data": {
      "image/png": "[encoded data removed]",
      "text/plain": [
       "<Figure size 432x288 with 1 Axes>"
      ]
     },
     "metadata": {
      "needs_background": "light"
     },
     "output_type": "display_data"
    }
   ],
   "source": [
    "# Create a DataFrame containing training history\n",
    "history_df = pd.DataFrame(fit_model.history, index=range(1,len(fit_model.history[\"loss\"])+1))\n",
    "\n",
    "# Plot the loss\n",
    "history_df.plot(y=\"loss\")\n"
   ]
  },
  {
   "cell_type": "code",
   "execution_count": 12,
   "id": "6b2a4c59",
   "metadata": {},
   "outputs": [
    {
     "data": {
      "text/plain": [
       "<AxesSubplot:>"
      ]
     },
     "execution_count": 12,
     "metadata": {},
     "output_type": "execute_result"
    },
    {
     "data": {
      "image/png": "[encoded data removed]",
      "text/plain": [
       "<Figure size 432x288 with 1 Axes>"
      ]
     },
     "metadata": {
      "needs_background": "light"
     },
     "output_type": "display_data"
    }
   ],
   "source": [
    "# Plot the accuracy\n",
    "history_df.plot(y=\"accuracy\")"
   ]
  },
  {
   "cell_type": "code",
   "execution_count": 13,
   "id": "263e0b97",
   "metadata": {},
   "outputs": [
    {
     "name": "stdout",
     "output_type": "stream",
     "text": [
      "8/8 - 2s - loss: 0.0675 - accuracy: 1.0000 - 2s/epoch - 215ms/step\n",
      "Loss: 0.06751888990402222, Accuracy: 1.0\n"
     ]
    }
   ],
   "source": [
    "# Evaluate the model using the test data\n",
    "model_loss, model_accuracy = nn_model.evaluate(X_test_scaled,y_test,verbose=2)\n",
    "\n",
    "print(f\"Loss: {model_loss}, Accuracy: {model_accuracy}\")"
   ]
  },
  {
   "cell_type": "code",
   "execution_count": 14,
   "id": "1cbe1f63",
   "metadata": {},
   "outputs": [
    {
     "name": "stdout",
     "output_type": "stream",
     "text": [
      "1/1 [==============================] - 2s 2s/step\n"
     ]
    },
    {
     "data": {
      "text/plain": [
       "array([[0],\n",
       "       [1],\n",
       "       [0],\n",
       "       [1],\n",
       "       [0],\n",
       "       [0],\n",
       "       [1],\n",
       "       [1],\n",
       "       [1],\n",
       "       [0]])"
      ]
     },
     "execution_count": 14,
     "metadata": {},
     "output_type": "execute_result"
    }
   ],
   "source": [
    "# Predict the classification of a new set of blob data\n",
    "\n",
    "new_X, new_Y = make_blobs(n_samples=10, centers=2, n_features=2, random_state=78)\n",
    "\n",
    "new_X_scaled = X_scaler.transform(new_X)\n",
    "\n",
    "(nn_model.predict(new_X_scaled) > 0.5).astype(\"int32\")"
   ]
  },
  {
   "cell_type": "code",
   "execution_count": 15,
   "id": "2a690bdb",
   "metadata": {},
   "outputs": [
    {
     "data": {
      "text/plain": [
       "<AxesSubplot:xlabel='Feature 1', ylabel='Feature 2'>"
      ]
     },
     "execution_count": 15,
     "metadata": {},
     "output_type": "execute_result"
    },
    {
     "data": {
      "image/png": "[encoded data removed]",
      "text/plain": [
       "<Figure size 432x288 with 2 Axes>"
      ]
     },
     "metadata": {
      "needs_background": "light"
     },
     "output_type": "display_data"
    }
   ],
   "source": [
    "from sklearn.datasets import make_moons\n",
    "\n",
    "# Creating dummy nonlinear data\n",
    "X_moons, y_moons = make_moons(n_samples=1000, noise=0.08, random_state=78)\n",
    "\n",
    "# Transforming y_moons to a vertical vector\n",
    "y_moons = y_moons.reshape(-1, 1)\n",
    "\n",
    "# Creating a DataFrame to plot the nonlinear dummy data\n",
    "df_moons = pd.DataFrame(X_moons, columns=[\"Feature 1\", \"Feature 2\"])\n",
    "df_moons[\"Target\"] = y_moons\n",
    "\n",
    "# Plot the nonlinear dummy data\n",
    "df_moons.plot.scatter(x=\"Feature 1\",y=\"Feature 2\", c=\"Target\",colormap=\"winter\")"
   ]
  },
  {
   "cell_type": "code",
   "execution_count": 16,
   "id": "0067e521",
   "metadata": {},
   "outputs": [],
   "source": [
    "# Create training and testing sets\n",
    "X_moon_train, X_moon_test, y_moon_train, y_moon_test = train_test_split(\n",
    "    X_moons, y_moons, random_state=78\n",
    ")\n",
    "\n",
    "# Create the scaler instance\n",
    "X_moon_scaler = skl.preprocessing.StandardScaler()\n",
    "\n",
    "# Fit the scaler\n",
    "X_moon_scaler.fit(X_moon_train)\n",
    "\n",
    "# Scale the data\n",
    "X_moon_train_scaled = X_moon_scaler.transform(X_moon_train)\n",
    "X_moon_test_scaled = X_moon_scaler.transform(X_moon_test)"
   ]
  },
  {
   "cell_type": "code",
   "execution_count": 17,
   "id": "65a813a2",
   "metadata": {},
   "outputs": [
    {
     "name": "stdout",
     "output_type": "stream",
     "text": [
      "Epoch 1/100\n",
      "24/24 [==============================] - 0s 782us/step - loss: 0.9374 - accuracy: 0.5693\n",
      "Epoch 2/100\n",
      "24/24 [==============================] - 0s 652us/step - loss: 0.7997 - accuracy: 0.6013\n",
      "Epoch 3/100\n",
      "24/24 [==============================] - 0s 662us/step - loss: 0.7143 - accuracy: 0.6267\n",
      "Epoch 4/100\n",
      "24/24 [==============================] - 0s 783us/step - loss: 0.6592 - accuracy: 0.6507\n",
      "Epoch 5/100\n",
      "24/24 [==============================] - 0s 652us/step - loss: 0.6200 - accuracy: 0.6693\n",
      "Epoch 6/100\n",
      "24/24 [==============================] - 0s 669us/step - loss: 0.5893 - accuracy: 0.6827\n",
      "Epoch 7/100\n",
      "24/24 [==============================] - 0s 609us/step - loss: 0.5641 - accuracy: 0.6947\n",
      "Epoch 8/100\n",
      "24/24 [==============================] - 0s 652us/step - loss: 0.5431 - accuracy: 0.7080\n",
      "Epoch 9/100\n",
      "24/24 [==============================] - 0s 609us/step - loss: 0.5239 - accuracy: 0.7253\n",
      "Epoch 10/100\n",
      "24/24 [==============================] - 0s 609us/step - loss: 0.5068 - accuracy: 0.7293\n",
      "Epoch 11/100\n",
      "24/24 [==============================] - 0s 652us/step - loss: 0.4909 - accuracy: 0.7360\n",
      "Epoch 12/100\n",
      "24/24 [==============================] - 0s 609us/step - loss: 0.4757 - accuracy: 0.7467\n",
      "Epoch 13/100\n",
      "24/24 [==============================] - 0s 734us/step - loss: 0.4611 - accuracy: 0.7533\n",
      "Epoch 14/100\n",
      "24/24 [==============================] - 0s 635us/step - loss: 0.4477 - accuracy: 0.7613\n",
      "Epoch 15/100\n",
      "24/24 [==============================] - 0s 787us/step - loss: 0.4352 - accuracy: 0.7707\n",
      "Epoch 16/100\n",
      "24/24 [==============================] - 0s 596us/step - loss: 0.4229 - accuracy: 0.7787\n",
      "Epoch 17/100\n",
      "24/24 [==============================] - 0s 671us/step - loss: 0.4116 - accuracy: 0.7813\n",
      "Epoch 18/100\n",
      "24/24 [==============================] - 0s 710us/step - loss: 0.4011 - accuracy: 0.7920\n",
      "Epoch 19/100\n",
      "24/24 [==============================] - 0s 652us/step - loss: 0.3911 - accuracy: 0.8053\n",
      "Epoch 20/100\n",
      "24/24 [==============================] - 0s 696us/step - loss: 0.3817 - accuracy: 0.8107\n",
      "Epoch 21/100\n",
      "24/24 [==============================] - 0s 638us/step - loss: 0.3730 - accuracy: 0.8120\n",
      "Epoch 22/100\n",
      "24/24 [==============================] - 0s 609us/step - loss: 0.3646 - accuracy: 0.8200\n",
      "Epoch 23/100\n",
      "24/24 [==============================] - 0s 609us/step - loss: 0.3568 - accuracy: 0.8240\n",
      "Epoch 24/100\n",
      "24/24 [==============================] - 0s 609us/step - loss: 0.3491 - accuracy: 0.8253\n",
      "Epoch 25/100\n",
      "24/24 [==============================] - 0s 609us/step - loss: 0.3422 - accuracy: 0.8280\n",
      "Epoch 26/100\n",
      "24/24 [==============================] - 0s 652us/step - loss: 0.3354 - accuracy: 0.8320\n",
      "Epoch 27/100\n",
      "24/24 [==============================] - 0s 652us/step - loss: 0.3290 - accuracy: 0.8373\n",
      "Epoch 28/100\n",
      "24/24 [==============================] - 0s 652us/step - loss: 0.3230 - accuracy: 0.8400\n",
      "Epoch 29/100\n",
      "24/24 [==============================] - 0s 652us/step - loss: 0.3176 - accuracy: 0.8440\n",
      "Epoch 30/100\n",
      "24/24 [==============================] - 0s 652us/step - loss: 0.3130 - accuracy: 0.8507\n",
      "Epoch 31/100\n",
      "24/24 [==============================] - 0s 609us/step - loss: 0.3086 - accuracy: 0.8507\n",
      "Epoch 32/100\n",
      "24/24 [==============================] - 0s 653us/step - loss: 0.3051 - accuracy: 0.8547\n",
      "Epoch 33/100\n",
      "24/24 [==============================] - 0s 652us/step - loss: 0.3017 - accuracy: 0.8587\n",
      "Epoch 34/100\n",
      "24/24 [==============================] - 0s 652us/step - loss: 0.2988 - accuracy: 0.8627\n",
      "Epoch 35/100\n",
      "24/24 [==============================] - 0s 695us/step - loss: 0.2962 - accuracy: 0.8667\n",
      "Epoch 36/100\n",
      "24/24 [==============================] - 0s 609us/step - loss: 0.2941 - accuracy: 0.8680\n",
      "Epoch 37/100\n",
      "24/24 [==============================] - 0s 630us/step - loss: 0.2923 - accuracy: 0.8720\n",
      "Epoch 38/100\n",
      "24/24 [==============================] - 0s 652us/step - loss: 0.2905 - accuracy: 0.8747\n",
      "Epoch 39/100\n",
      "24/24 [==============================] - 0s 739us/step - loss: 0.2890 - accuracy: 0.8760\n",
      "Epoch 40/100\n",
      "24/24 [==============================] - 0s 652us/step - loss: 0.2875 - accuracy: 0.8773\n",
      "Epoch 41/100\n",
      "24/24 [==============================] - 0s 652us/step - loss: 0.2862 - accuracy: 0.8800\n",
      "Epoch 42/100\n",
      "24/24 [==============================] - 0s 592us/step - loss: 0.2851 - accuracy: 0.8800\n",
      "Epoch 43/100\n",
      "24/24 [==============================] - 0s 609us/step - loss: 0.2840 - accuracy: 0.8827\n",
      "Epoch 44/100\n",
      "24/24 [==============================] - 0s 644us/step - loss: 0.2830 - accuracy: 0.8840\n",
      "Epoch 45/100\n",
      "24/24 [==============================] - 0s 652us/step - loss: 0.2820 - accuracy: 0.8840\n",
      "Epoch 46/100\n",
      "24/24 [==============================] - 0s 609us/step - loss: 0.2811 - accuracy: 0.8880\n",
      "Epoch 47/100\n",
      "24/24 [==============================] - 0s 652us/step - loss: 0.2802 - accuracy: 0.8880\n",
      "Epoch 48/100\n",
      "24/24 [==============================] - 0s 609us/step - loss: 0.2794 - accuracy: 0.8893\n",
      "Epoch 49/100\n",
      "24/24 [==============================] - 0s 609us/step - loss: 0.2786 - accuracy: 0.8907\n",
      "Epoch 50/100\n",
      "24/24 [==============================] - 0s 652us/step - loss: 0.2779 - accuracy: 0.8920\n",
      "Epoch 51/100\n",
      "24/24 [==============================] - 0s 609us/step - loss: 0.2772 - accuracy: 0.8920\n",
      "Epoch 52/100\n",
      "24/24 [==============================] - 0s 565us/step - loss: 0.2766 - accuracy: 0.8933\n",
      "Epoch 53/100\n",
      "24/24 [==============================] - 0s 612us/step - loss: 0.2758 - accuracy: 0.8933\n",
      "Epoch 54/100\n",
      "24/24 [==============================] - 0s 652us/step - loss: 0.2751 - accuracy: 0.8933\n",
      "Epoch 55/100\n",
      "24/24 [==============================] - 0s 652us/step - loss: 0.2745 - accuracy: 0.8933\n",
      "Epoch 56/100\n",
      "24/24 [==============================] - 0s 652us/step - loss: 0.2739 - accuracy: 0.8933\n",
      "Epoch 57/100\n",
      "24/24 [==============================] - 0s 609us/step - loss: 0.2733 - accuracy: 0.8933\n",
      "Epoch 58/100\n",
      "24/24 [==============================] - 0s 696us/step - loss: 0.2727 - accuracy: 0.8933\n",
      "Epoch 59/100\n",
      "24/24 [==============================] - 0s 652us/step - loss: 0.2723 - accuracy: 0.8933\n",
      "Epoch 60/100\n",
      "24/24 [==============================] - 0s 652us/step - loss: 0.2717 - accuracy: 0.8933\n",
      "Epoch 61/100\n",
      "24/24 [==============================] - 0s 609us/step - loss: 0.2711 - accuracy: 0.8920\n",
      "Epoch 62/100\n",
      "24/24 [==============================] - 0s 609us/step - loss: 0.2707 - accuracy: 0.8920\n",
      "Epoch 63/100\n",
      "24/24 [==============================] - 0s 565us/step - loss: 0.2702 - accuracy: 0.8920\n",
      "Epoch 64/100\n",
      "24/24 [==============================] - 0s 565us/step - loss: 0.2698 - accuracy: 0.8920\n",
      "Epoch 65/100\n",
      "24/24 [==============================] - 0s 689us/step - loss: 0.2693 - accuracy: 0.8907\n",
      "Epoch 66/100\n",
      "24/24 [==============================] - 0s 660us/step - loss: 0.2689 - accuracy: 0.8907\n",
      "Epoch 67/100\n",
      "24/24 [==============================] - 0s 652us/step - loss: 0.2684 - accuracy: 0.8907\n",
      "Epoch 68/100\n",
      "24/24 [==============================] - 0s 600us/step - loss: 0.2680 - accuracy: 0.8907\n",
      "Epoch 69/100\n",
      "24/24 [==============================] - 0s 565us/step - loss: 0.2677 - accuracy: 0.8907\n",
      "Epoch 70/100\n",
      "24/24 [==============================] - 0s 609us/step - loss: 0.2673 - accuracy: 0.8907\n",
      "Epoch 71/100\n",
      "24/24 [==============================] - 0s 566us/step - loss: 0.2670 - accuracy: 0.8907\n",
      "Epoch 72/100\n",
      "24/24 [==============================] - 0s 609us/step - loss: 0.2666 - accuracy: 0.8920\n",
      "Epoch 73/100\n",
      "24/24 [==============================] - 0s 608us/step - loss: 0.2662 - accuracy: 0.8920\n",
      "Epoch 74/100\n",
      "24/24 [==============================] - 0s 650us/step - loss: 0.2659 - accuracy: 0.8920\n",
      "Epoch 75/100\n",
      "24/24 [==============================] - 0s 740us/step - loss: 0.2655 - accuracy: 0.8920\n",
      "Epoch 76/100\n",
      "24/24 [==============================] - 0s 612us/step - loss: 0.2653 - accuracy: 0.8920\n",
      "Epoch 77/100\n",
      "24/24 [==============================] - 0s 578us/step - loss: 0.2649 - accuracy: 0.8920\n",
      "Epoch 78/100\n",
      "24/24 [==============================] - 0s 565us/step - loss: 0.2646 - accuracy: 0.8920\n",
      "Epoch 79/100\n",
      "24/24 [==============================] - 0s 609us/step - loss: 0.2643 - accuracy: 0.8920\n",
      "Epoch 80/100\n",
      "24/24 [==============================] - 0s 652us/step - loss: 0.2641 - accuracy: 0.8920\n",
      "Epoch 81/100\n"
     ]
    },
    {
     "name": "stdout",
     "output_type": "stream",
     "text": [
      "24/24 [==============================] - 0s 609us/step - loss: 0.2638 - accuracy: 0.8920\n",
      "Epoch 82/100\n",
      "24/24 [==============================] - 0s 609us/step - loss: 0.2635 - accuracy: 0.8920\n",
      "Epoch 83/100\n",
      "24/24 [==============================] - 0s 682us/step - loss: 0.2633 - accuracy: 0.8920\n",
      "Epoch 84/100\n",
      "24/24 [==============================] - 0s 652us/step - loss: 0.2630 - accuracy: 0.8920\n",
      "Epoch 85/100\n",
      "24/24 [==============================] - 0s 652us/step - loss: 0.2629 - accuracy: 0.8920\n",
      "Epoch 86/100\n",
      "24/24 [==============================] - 0s 609us/step - loss: 0.2625 - accuracy: 0.8920\n",
      "Epoch 87/100\n",
      "24/24 [==============================] - 0s 565us/step - loss: 0.2624 - accuracy: 0.8920\n",
      "Epoch 88/100\n",
      "24/24 [==============================] - 0s 609us/step - loss: 0.2620 - accuracy: 0.8920\n",
      "Epoch 89/100\n",
      "24/24 [==============================] - 0s 590us/step - loss: 0.2618 - accuracy: 0.8920\n",
      "Epoch 90/100\n",
      "24/24 [==============================] - 0s 609us/step - loss: 0.2616 - accuracy: 0.8920\n",
      "Epoch 91/100\n",
      "24/24 [==============================] - 0s 768us/step - loss: 0.2616 - accuracy: 0.8920\n",
      "Epoch 92/100\n",
      "24/24 [==============================] - 0s 846us/step - loss: 0.2613 - accuracy: 0.8933\n",
      "Epoch 93/100\n",
      "24/24 [==============================] - 0s 653us/step - loss: 0.2611 - accuracy: 0.8920\n",
      "Epoch 94/100\n",
      "24/24 [==============================] - 0s 609us/step - loss: 0.2608 - accuracy: 0.8920\n",
      "Epoch 95/100\n",
      "24/24 [==============================] - 0s 565us/step - loss: 0.2606 - accuracy: 0.8920\n",
      "Epoch 96/100\n",
      "24/24 [==============================] - 0s 609us/step - loss: 0.2604 - accuracy: 0.8920\n",
      "Epoch 97/100\n",
      "24/24 [==============================] - 0s 652us/step - loss: 0.2602 - accuracy: 0.8920\n",
      "Epoch 98/100\n",
      "24/24 [==============================] - 0s 589us/step - loss: 0.2600 - accuracy: 0.8920\n",
      "Epoch 99/100\n",
      "24/24 [==============================] - 0s 609us/step - loss: 0.2599 - accuracy: 0.8920\n",
      "Epoch 100/100\n",
      "24/24 [==============================] - 0s 609us/step - loss: 0.2598 - accuracy: 0.8907\n"
     ]
    }
   ],
   "source": [
    "# Training the model with the nonlinear data\n",
    "model_moon = nn_model.fit(X_moon_train_scaled, y_moon_train, epochs=100, shuffle=True)"
   ]
  },
  {
   "cell_type": "code",
   "execution_count": 18,
   "id": "4124d8af",
   "metadata": {},
   "outputs": [
    {
     "data": {
      "text/plain": [
       "<AxesSubplot:>"
      ]
     },
     "execution_count": 18,
     "metadata": {},
     "output_type": "execute_result"
    },
    {
     "data": {
      "image/png": "[encoded data removed]",
      "text/plain": [
       "<Figure size 432x288 with 1 Axes>"
      ]
     },
     "metadata": {
      "needs_background": "light"
     },
     "output_type": "display_data"
    }
   ],
   "source": [
    "# Create a DataFrame containing training history\n",
    "history_df = pd.DataFrame(model_moon.history, index=range(1,len(model_moon.history[\"loss\"])+1))\n",
    "\n",
    "# Plot the loss\n",
    "history_df.plot(y=\"loss\")"
   ]
  },
  {
   "cell_type": "code",
   "execution_count": 19,
   "id": "a1a7229e",
   "metadata": {},
   "outputs": [
    {
     "data": {
      "text/plain": [
       "<AxesSubplot:>"
      ]
     },
     "execution_count": 19,
     "metadata": {},
     "output_type": "execute_result"
    },
    {
     "data": {
      "image/png": "[encoded data removed]",
      "text/plain": [
       "<Figure size 432x288 with 1 Axes>"
      ]
     },
     "metadata": {
      "needs_background": "light"
     },
     "output_type": "display_data"
    }
   ],
   "source": [
    "# Plot the accuracy\n",
    "history_df.plot(y=\"accuracy\")"
   ]
  },
  {
   "cell_type": "code",
   "execution_count": 20,
   "id": "89043ca9",
   "metadata": {},
   "outputs": [],
   "source": [
    "##ADDING MORE NEURONS IN THE HIDDEN LAYER"
   ]
  },
  {
   "cell_type": "code",
   "execution_count": 21,
   "id": "205266e1",
   "metadata": {},
   "outputs": [],
   "source": [
    "# Generate our new Sequential model\n",
    "\n",
    "new_model = tf.keras.models.Sequential()"
   ]
  },
  {
   "cell_type": "code",
   "execution_count": 25,
   "id": "ac014b5f",
   "metadata": {},
   "outputs": [],
   "source": [
    "# Add the input and hidden layer\n",
    "number_inputs = 2\n",
    "\n",
    "number_hidden_nodes = 6\n",
    "\n",
    "new_model.add(tf.keras.layers.Dense(units=number_hidden_nodes, activation=\"relu\", input_dim=number_inputs))\n",
    "\n",
    "# Add the output layer that uses a probability activation function\n",
    "\n",
    "new_model.add(tf.keras.layers.Dense(units=1, activation=\"sigmoid\"))"
   ]
  },
  {
   "cell_type": "code",
   "execution_count": 26,
   "id": "367be200",
   "metadata": {},
   "outputs": [
    {
     "name": "stdout",
     "output_type": "stream",
     "text": [
      "Epoch 1/100\n",
      "24/24 [==============================] - 0s 826us/step - loss: 0.6911 - accuracy: 0.5307\n",
      "Epoch 2/100\n",
      "24/24 [==============================] - 0s 811us/step - loss: 0.6895 - accuracy: 0.5307\n",
      "Epoch 3/100\n",
      "24/24 [==============================] - 0s 739us/step - loss: 0.6883 - accuracy: 0.5307\n",
      "Epoch 4/100\n",
      "24/24 [==============================] - 0s 798us/step - loss: 0.6870 - accuracy: 0.5307\n",
      "Epoch 5/100\n",
      "24/24 [==============================] - 0s 740us/step - loss: 0.6852 - accuracy: 0.5307\n",
      "Epoch 6/100\n",
      "24/24 [==============================] - 0s 865us/step - loss: 0.6828 - accuracy: 0.5307\n",
      "Epoch 7/100\n",
      "24/24 [==============================] - 0s 709us/step - loss: 0.6796 - accuracy: 0.5307\n",
      "Epoch 8/100\n",
      "24/24 [==============================] - 0s 739us/step - loss: 0.6750 - accuracy: 0.5307\n",
      "Epoch 9/100\n",
      "24/24 [==============================] - 0s 696us/step - loss: 0.6695 - accuracy: 0.5307\n",
      "Epoch 10/100\n",
      "24/24 [==============================] - 0s 739us/step - loss: 0.6594 - accuracy: 0.5307\n",
      "Epoch 11/100\n",
      "24/24 [==============================] - 0s 735us/step - loss: 0.6478 - accuracy: 0.5307\n",
      "Epoch 12/100\n",
      "24/24 [==============================] - 0s 786us/step - loss: 0.6312 - accuracy: 0.7013\n",
      "Epoch 13/100\n",
      "24/24 [==============================] - 0s 739us/step - loss: 0.6106 - accuracy: 0.8453\n",
      "Epoch 14/100\n",
      "24/24 [==============================] - 0s 696us/step - loss: 0.5844 - accuracy: 0.8640\n",
      "Epoch 15/100\n",
      "24/24 [==============================] - 0s 739us/step - loss: 0.5534 - accuracy: 0.8720\n",
      "Epoch 16/100\n",
      "24/24 [==============================] - 0s 739us/step - loss: 0.5192 - accuracy: 0.8840\n",
      "Epoch 17/100\n",
      "24/24 [==============================] - 0s 696us/step - loss: 0.4828 - accuracy: 0.8920\n",
      "Epoch 18/100\n",
      "24/24 [==============================] - 0s 696us/step - loss: 0.4469 - accuracy: 0.8987\n",
      "Epoch 19/100\n",
      "24/24 [==============================] - 0s 696us/step - loss: 0.4126 - accuracy: 0.9027\n",
      "Epoch 20/100\n",
      "24/24 [==============================] - 0s 739us/step - loss: 0.3810 - accuracy: 0.9067\n",
      "Epoch 21/100\n",
      "24/24 [==============================] - 0s 739us/step - loss: 0.3540 - accuracy: 0.9107\n",
      "Epoch 22/100\n",
      "24/24 [==============================] - 0s 739us/step - loss: 0.3299 - accuracy: 0.9093\n",
      "Epoch 23/100\n",
      "24/24 [==============================] - 0s 738us/step - loss: 0.3098 - accuracy: 0.9107\n",
      "Epoch 24/100\n",
      "24/24 [==============================] - 0s 739us/step - loss: 0.2932 - accuracy: 0.9147\n",
      "Epoch 25/100\n",
      "24/24 [==============================] - 0s 739us/step - loss: 0.2774 - accuracy: 0.9160\n",
      "Epoch 26/100\n",
      "24/24 [==============================] - 0s 782us/step - loss: 0.2639 - accuracy: 0.9200\n",
      "Epoch 27/100\n",
      "24/24 [==============================] - 0s 696us/step - loss: 0.2514 - accuracy: 0.9187\n",
      "Epoch 28/100\n",
      "24/24 [==============================] - 0s 720us/step - loss: 0.2397 - accuracy: 0.9240\n",
      "Epoch 29/100\n",
      "24/24 [==============================] - 0s 739us/step - loss: 0.2291 - accuracy: 0.9293\n",
      "Epoch 30/100\n",
      "24/24 [==============================] - 0s 783us/step - loss: 0.2181 - accuracy: 0.9293\n",
      "Epoch 31/100\n",
      "24/24 [==============================] - 0s 939us/step - loss: 0.2076 - accuracy: 0.9307\n",
      "Epoch 32/100\n",
      "24/24 [==============================] - 0s 739us/step - loss: 0.1982 - accuracy: 0.9307\n",
      "Epoch 33/100\n",
      "24/24 [==============================] - 0s 719us/step - loss: 0.1875 - accuracy: 0.9387\n",
      "Epoch 34/100\n",
      "24/24 [==============================] - 0s 782us/step - loss: 0.1769 - accuracy: 0.9400\n",
      "Epoch 35/100\n",
      "24/24 [==============================] - 0s 739us/step - loss: 0.1669 - accuracy: 0.9427\n",
      "Epoch 36/100\n",
      "24/24 [==============================] - 0s 739us/step - loss: 0.1567 - accuracy: 0.9480\n",
      "Epoch 37/100\n",
      "24/24 [==============================] - 0s 696us/step - loss: 0.1459 - accuracy: 0.9507\n",
      "Epoch 38/100\n",
      "24/24 [==============================] - 0s 739us/step - loss: 0.1365 - accuracy: 0.9547\n",
      "Epoch 39/100\n",
      "24/24 [==============================] - 0s 696us/step - loss: 0.1258 - accuracy: 0.9600\n",
      "Epoch 40/100\n",
      "24/24 [==============================] - 0s 763us/step - loss: 0.1163 - accuracy: 0.9627\n",
      "Epoch 41/100\n",
      "24/24 [==============================] - 0s 826us/step - loss: 0.1072 - accuracy: 0.9667\n",
      "Epoch 42/100\n",
      "24/24 [==============================] - 0s 783us/step - loss: 0.0986 - accuracy: 0.9707\n",
      "Epoch 43/100\n",
      "24/24 [==============================] - 0s 739us/step - loss: 0.0911 - accuracy: 0.9747\n",
      "Epoch 44/100\n",
      "24/24 [==============================] - 0s 739us/step - loss: 0.0839 - accuracy: 0.9760\n",
      "Epoch 45/100\n",
      "24/24 [==============================] - 0s 739us/step - loss: 0.0774 - accuracy: 0.9787\n",
      "Epoch 46/100\n",
      "24/24 [==============================] - 0s 783us/step - loss: 0.0711 - accuracy: 0.9800\n",
      "Epoch 47/100\n",
      "24/24 [==============================] - 0s 782us/step - loss: 0.0653 - accuracy: 0.9813\n",
      "Epoch 48/100\n",
      "24/24 [==============================] - 0s 739us/step - loss: 0.0604 - accuracy: 0.9813\n",
      "Epoch 49/100\n",
      "24/24 [==============================] - 0s 739us/step - loss: 0.0559 - accuracy: 0.9853\n",
      "Epoch 50/100\n",
      "24/24 [==============================] - 0s 782us/step - loss: 0.0515 - accuracy: 0.9853\n",
      "Epoch 51/100\n",
      "24/24 [==============================] - 0s 783us/step - loss: 0.0480 - accuracy: 0.9867\n",
      "Epoch 52/100\n",
      "24/24 [==============================] - 0s 739us/step - loss: 0.0442 - accuracy: 0.9907\n",
      "Epoch 53/100\n",
      "24/24 [==============================] - 0s 739us/step - loss: 0.0414 - accuracy: 0.9933\n",
      "Epoch 54/100\n",
      "24/24 [==============================] - 0s 739us/step - loss: 0.0382 - accuracy: 0.9947\n",
      "Epoch 55/100\n",
      "24/24 [==============================] - 0s 739us/step - loss: 0.0359 - accuracy: 0.9960\n",
      "Epoch 56/100\n",
      "24/24 [==============================] - 0s 739us/step - loss: 0.0337 - accuracy: 0.9947\n",
      "Epoch 57/100\n",
      "24/24 [==============================] - 0s 739us/step - loss: 0.0317 - accuracy: 0.9960\n",
      "Epoch 58/100\n",
      "24/24 [==============================] - 0s 739us/step - loss: 0.0296 - accuracy: 0.9973\n",
      "Epoch 59/100\n",
      "24/24 [==============================] - 0s 824us/step - loss: 0.0280 - accuracy: 0.9973\n",
      "Epoch 60/100\n",
      "24/24 [==============================] - 0s 762us/step - loss: 0.0266 - accuracy: 0.9973\n",
      "Epoch 61/100\n",
      "24/24 [==============================] - 0s 739us/step - loss: 0.0252 - accuracy: 0.9973\n",
      "Epoch 62/100\n",
      "24/24 [==============================] - 0s 754us/step - loss: 0.0239 - accuracy: 0.9973\n",
      "Epoch 63/100\n",
      "24/24 [==============================] - 0s 748us/step - loss: 0.0227 - accuracy: 0.9973\n",
      "Epoch 64/100\n",
      "24/24 [==============================] - 0s 783us/step - loss: 0.0218 - accuracy: 0.9973\n",
      "Epoch 65/100\n",
      "24/24 [==============================] - 0s 774us/step - loss: 0.0208 - accuracy: 0.9973\n",
      "Epoch 66/100\n",
      "24/24 [==============================] - 0s 739us/step - loss: 0.0200 - accuracy: 0.9973\n",
      "Epoch 67/100\n",
      "24/24 [==============================] - 0s 775us/step - loss: 0.0192 - accuracy: 0.9973\n",
      "Epoch 68/100\n",
      "24/24 [==============================] - 0s 739us/step - loss: 0.0183 - accuracy: 0.9973\n",
      "Epoch 69/100\n",
      "24/24 [==============================] - 0s 739us/step - loss: 0.0179 - accuracy: 0.9973\n",
      "Epoch 70/100\n",
      "24/24 [==============================] - 0s 766us/step - loss: 0.0170 - accuracy: 0.9973\n",
      "Epoch 71/100\n",
      "24/24 [==============================] - 0s 783us/step - loss: 0.0166 - accuracy: 0.9973\n",
      "Epoch 72/100\n",
      "24/24 [==============================] - 0s 783us/step - loss: 0.0158 - accuracy: 0.9973\n",
      "Epoch 73/100\n",
      "24/24 [==============================] - 0s 739us/step - loss: 0.0153 - accuracy: 0.9973\n",
      "Epoch 74/100\n",
      "24/24 [==============================] - 0s 739us/step - loss: 0.0148 - accuracy: 0.9973\n",
      "Epoch 75/100\n",
      "24/24 [==============================] - 0s 782us/step - loss: 0.0143 - accuracy: 0.9973\n",
      "Epoch 76/100\n",
      "24/24 [==============================] - 0s 696us/step - loss: 0.0140 - accuracy: 0.9973\n",
      "Epoch 77/100\n",
      "24/24 [==============================] - 0s 826us/step - loss: 0.0133 - accuracy: 0.9973\n",
      "Epoch 78/100\n",
      "24/24 [==============================] - 0s 739us/step - loss: 0.0131 - accuracy: 0.9973\n",
      "Epoch 79/100\n",
      "24/24 [==============================] - 0s 739us/step - loss: 0.0124 - accuracy: 0.9973\n",
      "Epoch 80/100\n",
      "24/24 [==============================] - 0s 739us/step - loss: 0.0119 - accuracy: 0.9973\n",
      "Epoch 81/100\n"
     ]
    },
    {
     "name": "stdout",
     "output_type": "stream",
     "text": [
      "24/24 [==============================] - 0s 739us/step - loss: 0.0114 - accuracy: 0.9973\n",
      "Epoch 82/100\n",
      "24/24 [==============================] - 0s 739us/step - loss: 0.0112 - accuracy: 0.9973\n",
      "Epoch 83/100\n",
      "24/24 [==============================] - 0s 739us/step - loss: 0.0108 - accuracy: 0.9973\n",
      "Epoch 84/100\n",
      "24/24 [==============================] - 0s 739us/step - loss: 0.0105 - accuracy: 0.9973\n",
      "Epoch 85/100\n",
      "24/24 [==============================] - 0s 739us/step - loss: 0.0102 - accuracy: 0.9973\n",
      "Epoch 86/100\n",
      "24/24 [==============================] - 0s 739us/step - loss: 0.0098 - accuracy: 0.9973\n",
      "Epoch 87/100\n",
      "24/24 [==============================] - 0s 783us/step - loss: 0.0095 - accuracy: 0.9973\n",
      "Epoch 88/100\n",
      "24/24 [==============================] - 0s 757us/step - loss: 0.0092 - accuracy: 0.9973\n",
      "Epoch 89/100\n",
      "24/24 [==============================] - 0s 739us/step - loss: 0.0088 - accuracy: 0.9973\n",
      "Epoch 90/100\n",
      "24/24 [==============================] - 0s 739us/step - loss: 0.0086 - accuracy: 0.9973\n",
      "Epoch 91/100\n",
      "24/24 [==============================] - 0s 718us/step - loss: 0.0085 - accuracy: 0.9973\n",
      "Epoch 92/100\n",
      "24/24 [==============================] - 0s 717us/step - loss: 0.0081 - accuracy: 0.9973\n",
      "Epoch 93/100\n",
      "24/24 [==============================] - 0s 721us/step - loss: 0.0077 - accuracy: 0.9973\n",
      "Epoch 94/100\n",
      "24/24 [==============================] - 0s 696us/step - loss: 0.0074 - accuracy: 0.9973\n",
      "Epoch 95/100\n",
      "24/24 [==============================] - 0s 739us/step - loss: 0.0071 - accuracy: 0.9987\n",
      "Epoch 96/100\n",
      "24/24 [==============================] - 0s 739us/step - loss: 0.0068 - accuracy: 0.9987\n",
      "Epoch 97/100\n",
      "24/24 [==============================] - 0s 739us/step - loss: 0.0066 - accuracy: 0.9973\n",
      "Epoch 98/100\n",
      "24/24 [==============================] - 0s 739us/step - loss: 0.0064 - accuracy: 0.9987\n",
      "Epoch 99/100\n",
      "24/24 [==============================] - 0s 739us/step - loss: 0.0062 - accuracy: 0.9987\n",
      "Epoch 100/100\n",
      "24/24 [==============================] - 0s 739us/step - loss: 0.0060 - accuracy: 0.9987\n"
     ]
    }
   ],
   "source": [
    "# Compile the Sequential model together and customize metrics\n",
    "new_model.compile(loss=\"binary_crossentropy\", optimizer=\"adam\", metrics=[\"accuracy\"])\n",
    "\n",
    "# Fit the model to the training data\n",
    "new_fit_model = new_model.fit(X_moon_train_scaled, y_moon_train, epochs=100, shuffle=True)"
   ]
  },
  {
   "cell_type": "code",
   "execution_count": null,
   "id": "dc271cfd",
   "metadata": {},
   "outputs": [],
   "source": []
  }
 ],
 "metadata": {
  "kernelspec": {
   "display_name": "mlenv",
   "language": "python",
   "name": "mlenv"
  },
  "language_info": {
   "codemirror_mode": {
    "name": "ipython",
    "version": 3
   },
   "file_extension": ".py",
   "mimetype": "text/x-python",
   "name": "python",
   "nbconvert_exporter": "python",
   "pygments_lexer": "ipython3",
   "version": "3.7.13"
  }
 },
 "nbformat": 4,
 "nbformat_minor": 5
}
